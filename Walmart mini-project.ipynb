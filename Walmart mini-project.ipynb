{
 "cells": [
  {
   "cell_type": "code",
   "execution_count": 1,
   "id": "c8c706c1",
   "metadata": {},
   "outputs": [],
   "source": [
    "import findspark\n",
    "findspark.init()\n",
    "import pyspark\n",
    "\n",
    "from pyspark.sql import SparkSession\n",
    "# from pyspark.sql.functions import round, col\n",
    "from pyspark.sql.functions import *"
   ]
  },
  {
   "cell_type": "code",
   "execution_count": 2,
   "id": "e9853086",
   "metadata": {},
   "outputs": [],
   "source": [
    "spark=SparkSession.builder.appName('Big data Walmart Project').getOrCreate()"
   ]
  },
  {
   "cell_type": "code",
   "execution_count": 3,
   "id": "f2c6e74d",
   "metadata": {},
   "outputs": [],
   "source": [
    "sc = spark.sparkContext"
   ]
  },
  {
   "cell_type": "code",
   "execution_count": 4,
   "id": "f2e61146",
   "metadata": {},
   "outputs": [
    {
     "data": {
      "text/html": [
       "\n",
       "        <div>\n",
       "            <p><b>SparkContext</b></p>\n",
       "\n",
       "            <p><a href=\"http://DESKTOP-8VC636L:4040\">Spark UI</a></p>\n",
       "\n",
       "            <dl>\n",
       "              <dt>Version</dt>\n",
       "                <dd><code>v3.3.2</code></dd>\n",
       "              <dt>Master</dt>\n",
       "                <dd><code>local[*]</code></dd>\n",
       "              <dt>AppName</dt>\n",
       "                <dd><code>Big data Walmart Project</code></dd>\n",
       "            </dl>\n",
       "        </div>\n",
       "        "
      ],
      "text/plain": [
       "<SparkContext master=local[*] appName=Big data Walmart Project>"
      ]
     },
     "execution_count": 4,
     "metadata": {},
     "output_type": "execute_result"
    }
   ],
   "source": [
    "sc"
   ]
  },
  {
   "cell_type": "markdown",
   "id": "db76d750",
   "metadata": {},
   "source": [
    "# using PySpark -------------> RDD ( Resilient Distributed Dataset)"
   ]
  },
  {
   "cell_type": "code",
   "execution_count": 5,
   "id": "843c112b",
   "metadata": {},
   "outputs": [
    {
     "data": {
      "text/plain": [
       "['Date,Open,High,Low,Close,Volume,Adj Close',\n",
       " '03-01-2012,59.970001,61.060001,59.869999,60.330002,12668800,52.619235',\n",
       " '04-01-2012,60.209999,60.349998,59.470001,59.709999,9593300,52.078475',\n",
       " '05-01-2012,59.349998,59.619999,58.369999,59.419998,12768200,51.825539',\n",
       " '06-01-2012,59.419998,59.450001,58.869999,59,8069400,51.45922']"
      ]
     },
     "execution_count": 5,
     "metadata": {},
     "output_type": "execute_result"
    }
   ],
   "source": [
    "# 1. Creating RDD for walmart dataset\n",
    "\n",
    "walmart = sc.textFile('walmart_stock.csv')\n",
    "walmart.take(5)"
   ]
  },
  {
   "cell_type": "code",
   "execution_count": 6,
   "id": "e7ebc043",
   "metadata": {},
   "outputs": [],
   "source": [
    "# 2. Removing 1st row of headers from RDD\n",
    "\n",
    "first_row_index = 0\n",
    "walmartRDD = walmart.zipWithIndex().filter(lambda x: x[1] > first_row_index).map(lambda x: x[0])"
   ]
  },
  {
   "cell_type": "code",
   "execution_count": 7,
   "id": "94ba730d",
   "metadata": {},
   "outputs": [
    {
     "data": {
      "text/plain": [
       "[('Date,Open,High,Low,Close,Volume,Adj Close', 0),\n",
       " ('03-01-2012,59.970001,61.060001,59.869999,60.330002,12668800,52.619235', 1),\n",
       " ('04-01-2012,60.209999,60.349998,59.470001,59.709999,9593300,52.078475', 2),\n",
       " ('05-01-2012,59.349998,59.619999,58.369999,59.419998,12768200,51.825539', 3),\n",
       " ('06-01-2012,59.419998,59.450001,58.869999,59,8069400,51.45922', 4)]"
      ]
     },
     "execution_count": 7,
     "metadata": {},
     "output_type": "execute_result"
    }
   ],
   "source": [
    "# 2.1 What zipWWithIndex() did to RDD\n",
    "\n",
    "first_row_index = 0\n",
    "w1 = walmart.zipWithIndex()\n",
    "w1.take(5)"
   ]
  },
  {
   "cell_type": "code",
   "execution_count": 8,
   "id": "2629d34a",
   "metadata": {},
   "outputs": [
    {
     "data": {
      "text/plain": [
       "[('03-01-2012,59.970001,61.060001,59.869999,60.330002,12668800,52.619235', 1),\n",
       " ('04-01-2012,60.209999,60.349998,59.470001,59.709999,9593300,52.078475', 2),\n",
       " ('05-01-2012,59.349998,59.619999,58.369999,59.419998,12768200,51.825539', 3),\n",
       " ('06-01-2012,59.419998,59.450001,58.869999,59,8069400,51.45922', 4),\n",
       " ('09-01-2012,59.029999,59.549999,58.919998,59.18,6679300,51.616215', 5)]"
      ]
     },
     "execution_count": 8,
     "metadata": {},
     "output_type": "execute_result"
    }
   ],
   "source": [
    "# 2.2 What filter() did with indexed RDD\n",
    "\n",
    "w2 = walmart.zipWithIndex().filter(lambda x: x[1] > first_row_index)\n",
    "w2.take(5)"
   ]
  },
  {
   "cell_type": "code",
   "execution_count": 9,
   "id": "65d6af35",
   "metadata": {},
   "outputs": [
    {
     "data": {
      "text/plain": [
       "'03-01-2012,59.970001,61.060001,59.869999,60.330002,12668800,52.619235'"
      ]
     },
     "execution_count": 9,
     "metadata": {},
     "output_type": "execute_result"
    }
   ],
   "source": [
    "# 2.3 Finally getting real workable RDD\n",
    "\n",
    "w3 = walmart.zipWithIndex().filter(lambda x: x[1] > first_row_index).map(lambda x: x[0])\n",
    "w3.take(5)[0]"
   ]
  },
  {
   "cell_type": "code",
   "execution_count": 10,
   "id": "244690a5",
   "metadata": {},
   "outputs": [
    {
     "data": {
      "text/plain": [
       "['03-01-2012,59.970001,61.060001,59.869999,60.330002,12668800,52.619235',\n",
       " '04-01-2012,60.209999,60.349998,59.470001,59.709999,9593300,52.078475']"
      ]
     },
     "execution_count": 10,
     "metadata": {},
     "output_type": "execute_result"
    }
   ],
   "source": [
    "# 3. Removing headers using alternative method\n",
    "\n",
    "header = walmart.first()\n",
    "w4 = walmart.filter(lambda row: row!=header)\n",
    "w4.take(2)"
   ]
  },
  {
   "cell_type": "code",
   "execution_count": 11,
   "id": "ea411e7d",
   "metadata": {},
   "outputs": [
    {
     "data": {
      "text/plain": [
       "'59.970001'"
      ]
     },
     "execution_count": 11,
     "metadata": {},
     "output_type": "execute_result"
    }
   ],
   "source": [
    "# 4. Splitting records using comma -> \" , \" as delimiter\n",
    "\n",
    "walmart_split = walmartRDD.map(lambda x : x.split(','))\n",
    "walmart_split.take(1)[0][1]"
   ]
  },
  {
   "cell_type": "code",
   "execution_count": 12,
   "id": "149415fd",
   "metadata": {},
   "outputs": [
    {
     "data": {
      "text/plain": [
       "[['03-01-2012',\n",
       "  59.970001,\n",
       "  61.060001,\n",
       "  59.869999,\n",
       "  60.330002,\n",
       "  12668800.0,\n",
       "  52.619235]]"
      ]
     },
     "execution_count": 12,
     "metadata": {},
     "output_type": "execute_result"
    }
   ],
   "source": [
    "# 5. Converting Data types for required columns using function\n",
    "\n",
    "def asInt(x):\n",
    "    return [x[0], float(x[1]), float(x[2]), float(x[3]), float(x[4]),float(x[5]), float(x[6])]\n",
    "#       return x[0], x[1]\n",
    "\n",
    "walmart_fnl = walmart_split.map(asInt)\n",
    "walmart_fnl.take(1)"
   ]
  },
  {
   "cell_type": "markdown",
   "id": "67f65b51",
   "metadata": {},
   "source": [
    "## Problem Statements"
   ]
  },
  {
   "cell_type": "markdown",
   "id": "0c010e34",
   "metadata": {},
   "source": [
    "### 1.  What is the mean of the Close column? ----> (RDD)"
   ]
  },
  {
   "cell_type": "code",
   "execution_count": 13,
   "id": "4b23d46b",
   "metadata": {},
   "outputs": [
    {
     "name": "stdout",
     "output_type": "stream",
     "text": [
      "\n",
      "Mean of Close column in Walmart : \n",
      "72.38844998012719\n"
     ]
    }
   ],
   "source": [
    "# Getting only values of column \"Close\"\n",
    "\n",
    "close_prices = walmart_fnl.map(lambda x: x[4])      #  close_prices is of type --> pyspark.rdd.PipelinedRDD\n",
    "# close_prices.mean()\n",
    "\n",
    "# Finding mean of Close prices \n",
    "\n",
    "meanClose = close_prices.mean()\n",
    "print(f\"\\nMean of Close column in Walmart : \\n{meanClose}\")"
   ]
  },
  {
   "cell_type": "markdown",
   "id": "d62656e2",
   "metadata": {},
   "source": [
    "### 2. What is the max High per year? ----> (RDD)"
   ]
  },
  {
   "cell_type": "code",
   "execution_count": 14,
   "id": "13e3f426",
   "metadata": {},
   "outputs": [
    {
     "data": {
      "text/plain": [
       "[(2012, 61.060001),\n",
       " (2012, 60.349998),\n",
       " (2012, 59.619999),\n",
       " (2012, 59.450001),\n",
       " (2012, 59.549999)]"
      ]
     },
     "execution_count": 14,
     "metadata": {},
     "output_type": "execute_result"
    }
   ],
   "source": [
    "# Using map() to make K,V pairs of (year, High)\n",
    "\n",
    "yearHigh_paired = walmart_fnl.map(lambda x: (int(x[0][6:]), x[2]))\n",
    "yearHigh_paired.take(5)"
   ]
  },
  {
   "cell_type": "code",
   "execution_count": 35,
   "id": "b98d653f",
   "metadata": {},
   "outputs": [],
   "source": [
    "# Using reduceByKey() to group year by max of High\n",
    "\n",
    "maxHigh_perYr = yearHigh_paired.reduceByKey(max)\n",
    "type(maxHigh_perYr)\n",
    "\n",
    "print('Max High of Walmart stocks every Year(2012-2016): \\n\\n' ,maxHigh_perYr.sortBy(lambda x: x[1], ascending=False).take(5))"
   ]
  },
  {
   "cell_type": "code",
   "execution_count": null,
   "id": "ca65fe22",
   "metadata": {},
   "outputs": [],
   "source": []
  },
  {
   "cell_type": "markdown",
   "id": "6f4b55f9",
   "metadata": {},
   "source": [
    "# using -----------> DataFrames"
   ]
  },
  {
   "cell_type": "code",
   "execution_count": 36,
   "id": "29d80278",
   "metadata": {},
   "outputs": [
    {
     "name": "stdout",
     "output_type": "stream",
     "text": [
      "+----------+---------+---------+---------+---------+--------+---------+\n",
      "|      Date|     Open|     High|      Low|    Close|  Volume|Adj Close|\n",
      "+----------+---------+---------+---------+---------+--------+---------+\n",
      "|2012-01-03|59.970001|61.060001|59.869999|60.330002|12668800|52.619235|\n",
      "|2012-01-04|60.209999|60.349998|59.470001|59.709999| 9593300|52.078475|\n",
      "|2012-01-05|59.349998|59.619999|58.369999|59.419998|12768200|51.825539|\n",
      "|2012-01-06|59.419998|59.450001|58.869999|     59.0| 8069400| 51.45922|\n",
      "|2012-01-09|59.029999|59.549999|58.919998|    59.18| 6679300|51.616215|\n",
      "+----------+---------+---------+---------+---------+--------+---------+\n",
      "only showing top 5 rows\n",
      "\n",
      "root\n",
      " |-- Date: date (nullable = true)\n",
      " |-- Open: double (nullable = true)\n",
      " |-- High: double (nullable = true)\n",
      " |-- Low: double (nullable = true)\n",
      " |-- Close: double (nullable = true)\n",
      " |-- Volume: integer (nullable = true)\n",
      " |-- Adj Close: double (nullable = true)\n",
      "\n"
     ]
    }
   ],
   "source": [
    "# 1. Creating DataFrame for walmart dataset \n",
    "\n",
    "walmartDF = spark.read.load('walmart_stock.csv', format='csv', sep=',', \n",
    "                              header='true', inferSchema=True)\n",
    "\n",
    "# Changing data type for Date column\n",
    "walmartDF = walmartDF.withColumn('Date', to_date(walmartDF.Date, 'dd-MM-yyyy'))\n",
    "walmartDF.show(5)\n",
    "walmartDF.printSchema()"
   ]
  },
  {
   "cell_type": "code",
   "execution_count": null,
   "id": "fee04cbb",
   "metadata": {},
   "outputs": [],
   "source": []
  },
  {
   "cell_type": "code",
   "execution_count": 37,
   "id": "cd37dcac",
   "metadata": {},
   "outputs": [
    {
     "name": "stdout",
     "output_type": "stream",
     "text": [
      "+-------+-----------------+-----------------+-----------------+-----------------+-----------------+-----------------+\n",
      "|summary|             Open|             High|              Low|            Close|           Volume|        Adj Close|\n",
      "+-------+-----------------+-----------------+-----------------+-----------------+-----------------+-----------------+\n",
      "|  count|             1258|             1258|             1258|             1258|             1258|             1258|\n",
      "|   mean|72.35785375357709|72.83938807631165| 71.9186009594594|72.38844998012726|8222093.481717011|67.23883848728146|\n",
      "| stddev| 6.76809024470826|6.768186808159218|6.744075756255496| 6.75685916373299|  4519780.8431556|6.722609449996858|\n",
      "|    min|        56.389999|        57.060001|        56.299999|        56.419998|          2094900|        50.363689|\n",
      "|    max|        90.800003|        90.970001|            89.25|        90.470001|         80898100|        84.914216|\n",
      "+-------+-----------------+-----------------+-----------------+-----------------+-----------------+-----------------+\n",
      "\n"
     ]
    }
   ],
   "source": [
    "walmartDF.describe().show()"
   ]
  },
  {
   "cell_type": "markdown",
   "id": "89ec0d80",
   "metadata": {},
   "source": [
    "### Bonus Question!\n",
    "\n",
    "#### There are too many decimal places for mean and stddev in the describe() dataframe. Format the  numbers to just show up to two decimal places. Pay careful attention to the datatypes that  .describe() returns, we didn't cover how to do this exact formatting, but we covered something very similar.\n"
   ]
  },
  {
   "cell_type": "code",
   "execution_count": 38,
   "id": "286ac194",
   "metadata": {},
   "outputs": [
    {
     "name": "stdout",
     "output_type": "stream",
     "text": [
      "root\n",
      " |-- summary: string (nullable = true)\n",
      " |-- Open: double (nullable = true)\n",
      " |-- High: double (nullable = true)\n",
      " |-- Low: double (nullable = true)\n",
      " |-- Close: double (nullable = true)\n",
      " |-- Volume: double (nullable = true)\n",
      " |-- Adj Close: double (nullable = true)\n",
      "\n"
     ]
    }
   ],
   "source": [
    "# Storing statistics in separate DF\n",
    "wmt_desc = walmartDF.describe()\n",
    "\n",
    "# Changing datatypes of required columns\n",
    "wmt_desc = wmt_desc.select(\"summary\",wmt_desc[\"Open\"].cast('double'), wmt_desc[\"High\"].cast('double'), \n",
    "                                wmt_desc[\"Low\"].cast('double'), wmt_desc[\"Close\"].cast('double'),\n",
    "                               wmt_desc[\"Volume\"].cast('double'), wmt_desc[\"Adj Close\"].cast('double'))\n",
    "wmt_desc.printSchema()"
   ]
  },
  {
   "cell_type": "code",
   "execution_count": 39,
   "id": "07a64bfe",
   "metadata": {},
   "outputs": [
    {
     "name": "stdout",
     "output_type": "stream",
     "text": [
      "+-------+------+------+------+------+----------+---------+\n",
      "|summary|  Open|  High|   Low| Close|    Volume|Adj Close|\n",
      "+-------+------+------+------+------+----------+---------+\n",
      "|  count|1258.0|1258.0|1258.0|1258.0|    1258.0|   1258.0|\n",
      "|   mean| 72.36| 72.84| 71.92| 72.39|8222093.48|    67.24|\n",
      "| stddev|  6.77|  6.77|  6.74|  6.76|4519780.84|     6.72|\n",
      "|    min| 56.39| 57.06|  56.3| 56.42| 2094900.0|    50.36|\n",
      "|    max|  90.8| 90.97| 89.25| 90.47| 8.08981E7|    84.91|\n",
      "+-------+------+------+------+------+----------+---------+\n",
      "\n"
     ]
    }
   ],
   "source": [
    "wmt_desc.select(\"summary\", round(\"Open\",2).alias(\"Open\"), round(\"High\",2).alias(\"High\"), round(\"Low\",2).alias(\"Low\"),\n",
    "               round(\"Close\",2).alias(\"Close\"), round(\"Volume\",2).alias(\"Volume\"), round(\"Adj Close\",2).alias(\"Adj Close\")).show()"
   ]
  },
  {
   "cell_type": "markdown",
   "id": "6fef6eb8",
   "metadata": {},
   "source": [
    "### 3. Create a new dataframe with a column called HV Ratio that is the ratio of the High Price versus volume of stock traded for a day."
   ]
  },
  {
   "cell_type": "code",
   "execution_count": 40,
   "id": "0827fa87",
   "metadata": {},
   "outputs": [
    {
     "name": "stdout",
     "output_type": "stream",
     "text": [
      "+--------------------+\n",
      "|            HV Ratio|\n",
      "+--------------------+\n",
      "|4.819714653321546E-6|\n",
      "|6.290848613094555E-6|\n",
      "|4.669412994783916E-6|\n",
      "|7.367338463826307E-6|\n",
      "|8.915604778943901E-6|\n",
      "|8.644477436914568E-6|\n",
      "|9.351828421515645E-6|\n",
      "| 8.29141562102703E-6|\n",
      "|7.712212102001474E-6|\n",
      "|7.071764823529411...|\n",
      "|1.015495466386981E-5|\n",
      "|6.576354146362592...|\n",
      "| 5.90145296180676E-6|\n",
      "|8.547679455011844E-6|\n",
      "|8.420709512685392E-6|\n",
      "|1.041448341728929...|\n",
      "|8.316075414862431E-6|\n",
      "|9.721183814992126E-6|\n",
      "|8.029436027707578E-6|\n",
      "|6.307432259386365E-6|\n",
      "+--------------------+\n",
      "only showing top 20 rows\n",
      "\n"
     ]
    }
   ],
   "source": [
    "wmt_HVRatioDF = walmartDF.withColumn(\"HV Ratio\", walmartDF.High/walmartDF.Volume)\n",
    "wmt_HVRatioDF.select(\"HV Ratio\").show()"
   ]
  },
  {
   "cell_type": "markdown",
   "id": "7b9be422",
   "metadata": {},
   "source": [
    "# using -------------> SparkSQL"
   ]
  },
  {
   "cell_type": "markdown",
   "id": "0b556d2c",
   "metadata": {},
   "source": [
    "### Creating SQL table from DF"
   ]
  },
  {
   "cell_type": "code",
   "execution_count": 41,
   "id": "a27c42c4",
   "metadata": {},
   "outputs": [
    {
     "name": "stdout",
     "output_type": "stream",
     "text": [
      "+----------+---------+---------+---------+---------+--------+---------+\n",
      "|      Date|     Open|     High|      Low|    Close|  Volume|Adj Close|\n",
      "+----------+---------+---------+---------+---------+--------+---------+\n",
      "|2012-01-03|59.970001|61.060001|59.869999|60.330002|12668800|52.619235|\n",
      "|2012-01-04|60.209999|60.349998|59.470001|59.709999| 9593300|52.078475|\n",
      "|2012-01-05|59.349998|59.619999|58.369999|59.419998|12768200|51.825539|\n",
      "|2012-01-06|59.419998|59.450001|58.869999|     59.0| 8069400| 51.45922|\n",
      "|2012-01-09|59.029999|59.549999|58.919998|    59.18| 6679300|51.616215|\n",
      "+----------+---------+---------+---------+---------+--------+---------+\n",
      "\n"
     ]
    }
   ],
   "source": [
    "walmartDF.createOrReplaceTempView(\"walmart\")\n",
    "spark.sql(\"select * from walmart limit 5\").show()"
   ]
  },
  {
   "cell_type": "markdown",
   "id": "dcb187c9",
   "metadata": {},
   "source": [
    "### 3. What day had the Peak High in Price?"
   ]
  },
  {
   "cell_type": "code",
   "execution_count": 42,
   "id": "e0525cb9",
   "metadata": {},
   "outputs": [
    {
     "data": {
      "text/plain": [
       "datetime.date(2015, 1, 13)"
      ]
     },
     "execution_count": 42,
     "metadata": {},
     "output_type": "execute_result"
    }
   ],
   "source": [
    "peakHighDF = spark.sql(\"SELECT Date FROM walmart WHERE High = (SELECT MAX(High) FROM walmart)\")\n",
    "peakHighDF.head()['Date']"
   ]
  },
  {
   "cell_type": "markdown",
   "id": "090e92a7",
   "metadata": {},
   "source": [
    "### 4. What percentage of the time was the High greater than 80 dollars ? "
   ]
  },
  {
   "cell_type": "code",
   "execution_count": 43,
   "id": "cb4e7c8f",
   "metadata": {},
   "outputs": [
    {
     "data": {
      "text/plain": [
       "9.141494435612083"
      ]
     },
     "execution_count": 43,
     "metadata": {},
     "output_type": "execute_result"
    }
   ],
   "source": [
    "high_greater80DF = spark.sql(\"SELECT Date FROM walmart WHERE High > 80\")\n",
    "(high_greater80DF.count() / walmartDF.count()) * 100"
   ]
  },
  {
   "cell_type": "markdown",
   "id": "9da72440",
   "metadata": {},
   "source": [
    "### 5. What is the average Close for each Calendar Month? \n"
   ]
  },
  {
   "cell_type": "code",
   "execution_count": 44,
   "id": "abbe6b6c",
   "metadata": {},
   "outputs": [
    {
     "name": "stdout",
     "output_type": "stream",
     "text": [
      "+----+-----+------------------+\n",
      "|year|month|         avg_close|\n",
      "+----+-----+------------------+\n",
      "|2012|    1|        60.2354999|\n",
      "|2012|    2|            60.898|\n",
      "|2012|    3|60.433636818181796|\n",
      "|2012|    4|60.149000150000006|\n",
      "|2012|    5|61.456363409090905|\n",
      "|2012|    6| 67.50380961904762|\n",
      "|2012|    7| 72.40666661904763|\n",
      "|2012|    8| 73.04478265217392|\n",
      "|2012|    9| 74.18157921052631|\n",
      "|2012|   10| 75.30619061904761|\n",
      "|2012|   11| 71.10952333333333|\n",
      "|2012|   12| 69.71100009999999|\n",
      "|2013|    1| 69.09476142857143|\n",
      "|2013|    2| 70.62315857894738|\n",
      "|2013|    3| 73.43649940000002|\n",
      "|2013|    4| 77.68954572727273|\n",
      "|2013|    5| 77.81636368181817|\n",
      "|2013|    6| 74.97800020000001|\n",
      "|2013|    7| 77.11545418181818|\n",
      "|2013|    8| 75.22409204545455|\n",
      "|2013|    9|        74.4395005|\n",
      "|2013|   10| 74.97913104347826|\n",
      "|2013|   11| 78.97300075000001|\n",
      "|2013|   12|  78.7752382857143|\n",
      "|2014|    1| 76.53142833333334|\n",
      "|2014|    2| 74.05578978947368|\n",
      "|2014|    3| 75.30238076190474|\n",
      "|2014|    4| 77.80857085714285|\n",
      "|2014|    5| 77.38095276190477|\n",
      "|2014|    6| 76.01000033333332|\n",
      "|2014|    7| 76.21090877272728|\n",
      "|2014|    8| 74.67666623809525|\n",
      "|2014|    9| 76.33619004761903|\n",
      "|2014|   10| 76.48869486956522|\n",
      "|2014|   11| 81.88526321052632|\n",
      "|2014|   12|  85.1259102727273|\n",
      "|2015|    1|       87.60949975|\n",
      "|2015|    2| 85.52315805263159|\n",
      "|2015|    3| 82.47318172727272|\n",
      "|2015|    4| 79.56047561904764|\n",
      "|2015|    5| 77.33599970000002|\n",
      "|2015|    6| 72.79727304545456|\n",
      "|2015|    7| 72.75000036363635|\n",
      "|2015|    8|  69.2866677142857|\n",
      "|2015|    9| 64.25238128571429|\n",
      "|2015|   10|61.564545636363626|\n",
      "|2015|   11| 58.91199994999998|\n",
      "|2015|   12| 59.98681827272728|\n",
      "|2016|    1| 63.22105263157895|\n",
      "|2016|    2| 66.24800044999999|\n",
      "|2016|    3| 67.55499963636365|\n",
      "|2016|    4| 68.82523861904761|\n",
      "|2016|    5| 68.05285676190476|\n",
      "|2016|    6| 71.34636304545454|\n",
      "|2016|    7| 73.54149939999999|\n",
      "|2016|    8|  72.8300000869565|\n",
      "|2016|    9|  72.0085718095238|\n",
      "|2016|   10| 69.23952366666667|\n",
      "|2016|   11| 70.30476261904762|\n",
      "|2016|   12| 70.51904728571428|\n",
      "+----+-----+------------------+\n",
      "\n"
     ]
    }
   ],
   "source": [
    "avgCloseDF = spark.sql(\"SELECT YEAR(Date) AS year, MONTH(Date) AS month, AVG(Close) AS avg_close\\\n",
    "                       FROM walmart GROUP BY YEAR(Date), month(Date) ORDER BY YEAR(Date), MONTH(Date)\")\n",
    "avgCloseDF.show(60)"
   ]
  },
  {
   "cell_type": "code",
   "execution_count": null,
   "id": "971bf721",
   "metadata": {},
   "outputs": [],
   "source": []
  },
  {
   "cell_type": "code",
   "execution_count": null,
   "id": "21a1e032",
   "metadata": {},
   "outputs": [],
   "source": []
  },
  {
   "cell_type": "code",
   "execution_count": null,
   "id": "6613f0fd",
   "metadata": {},
   "outputs": [],
   "source": []
  },
  {
   "cell_type": "code",
   "execution_count": null,
   "id": "48b28950",
   "metadata": {},
   "outputs": [],
   "source": []
  },
  {
   "cell_type": "code",
   "execution_count": null,
   "id": "5d5a7236",
   "metadata": {},
   "outputs": [],
   "source": []
  },
  {
   "cell_type": "code",
   "execution_count": null,
   "id": "48f42f35",
   "metadata": {},
   "outputs": [],
   "source": []
  }
 ],
 "metadata": {
  "kernelspec": {
   "display_name": "Python 3 (ipykernel)",
   "language": "python",
   "name": "python3"
  },
  "language_info": {
   "codemirror_mode": {
    "name": "ipython",
    "version": 3
   },
   "file_extension": ".py",
   "mimetype": "text/x-python",
   "name": "python",
   "nbconvert_exporter": "python",
   "pygments_lexer": "ipython3",
   "version": "3.10.7"
  }
 },
 "nbformat": 4,
 "nbformat_minor": 5
}
